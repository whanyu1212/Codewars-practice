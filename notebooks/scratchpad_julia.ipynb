{
 "cells": [
  {
   "cell_type": "code",
   "execution_count": 1,
   "metadata": {},
   "outputs": [],
   "source": [
    "struct CreativeTechnophileProfile\n",
    "    DigitalBrushes::Vector{String}\n",
    "    PaletteOfSkills::Dict{String, Vector{String}}\n",
    "    SeedsNurturing::Vector{String}\n",
    "    BrainGym::Dict{String, String}\n",
    "end"
   ]
  },
  {
   "cell_type": "code",
   "execution_count": 2,
   "metadata": {},
   "outputs": [
    {
     "name": "stdout",
     "output_type": "stream",
     "text": [
      "CreativeTechnophileProfile([\"Python\", \"Julia\", \"R\", \"SQL\", \"Typescript\"], Dict(\"Sky's the Limit\" => [\"GCP\", \"BigQuery\", \"Vertex AI\", \"Dataproc\", \"Cloud Composer\", \"Google Cloud Storage\"], \"Data Universe Navigation\" => [\"Pandas\", \"Numpy\", \"Tensorflow\", \"PyTorch\", \"Scikit-learn\", \"XGBoost\", \"Langchain\", \"Streamlit\"], \"Weaving Magic\" => [\"Angular\", \"Node.js\", \"Typescript\", \"CSS\", \"HTML\"], \"Digital Symphonies\" => [\"Prefect\", \"Mage\", \"Kestra\"]), [\"Julia\", \"Large Language Models (LLM)\", \"Differential Privacy\", \"End-to-end Data Science\"], Dict(\"Julia & Typescript\" => \"Codewars\", \"Python\" => \"Leetcode\"))\n"
     ]
    }
   ],
   "source": [
    "hyProfile = CreativeTechnophileProfile(\n",
    "    [\"Python\", \"Julia\", \"R\", \"SQL\", \"Typescript\"],  # Digital Brushes\n",
    "    Dict(\n",
    "        \"Weaving Magic\" => [\"Angular\", \"Node.js\", \"Typescript\", \"CSS\", \"HTML\"],  # Front-End Development\n",
    "        \"Sky's the Limit\" => [\"GCP\", \"BigQuery\", \"Vertex AI\", \"Dataproc\", \"Cloud Composer\", \"Google Cloud Storage\"],  # Cloud\n",
    "        \"Data Universe Navigation\" => [\"Pandas\", \"Numpy\", \"Tensorflow\", \"PyTorch\", \"Scikit-learn\", \"XGBoost\", \"Langchain\", \"Streamlit\"],  # Data Science Framework\n",
    "        \"Digital Symphonies\" => [\"Prefect\", \"Mage\", \"Kestra\"]  # Workflow Orchestration\n",
    "    ),\n",
    "    [\"Julia\", \"Large Language Models (LLM)\", \"Differential Privacy\", \"End-to-end Data Science\"],  # Seeds Nurturing\n",
    "    Dict(\n",
    "        \"Python\" => \"Leetcode\",  # Python Challenges\n",
    "        \"Julia & Typescript\" => \"Codewars\"  # Julia and Typescript Challenges\n",
    "    )\n",
    ")\n",
    "\n",
    "# Display the profile\n",
    "println(hyProfile)"
   ]
  },
  {
   "cell_type": "code",
   "execution_count": 1,
   "metadata": {},
   "outputs": [
    {
     "data": {
      "text/plain": [
       "sumOfMultiples (generic function with 1 method)"
      ]
     },
     "execution_count": 1,
     "metadata": {},
     "output_type": "execute_result"
    }
   ],
   "source": [
    "function sumOfMultiples(number)\n",
    "    return filter(x -> x % 3 == 0 || x % 5 == 0, 1:number-1) |> sum\n",
    "end"
   ]
  },
  {
   "cell_type": "code",
   "execution_count": 2,
   "metadata": {},
   "outputs": [
    {
     "data": {
      "text/plain": [
       "23"
      ]
     },
     "execution_count": 2,
     "metadata": {},
     "output_type": "execute_result"
    }
   ],
   "source": [
    "sumOfMultiples(10)"
   ]
  },
  {
   "cell_type": "code",
   "execution_count": 3,
   "metadata": {},
   "outputs": [
    {
     "data": {
      "text/plain": [
       "getcount (generic function with 1 method)"
      ]
     },
     "execution_count": 3,
     "metadata": {},
     "output_type": "execute_result"
    }
   ],
   "source": [
    "function getcount(s::String)\n",
    "    vowelscount = 0\n",
    "    if occursin(s, \"a\") || occursin(s, \"e\") || occursin(s, \"i\") || occursin(s, \"o\") || occursin(s, \"u\")\n",
    "        vowelscount += 1\n",
    "    end  \n",
    "    return vowelscount\n",
    "  end"
   ]
  },
  {
   "cell_type": "code",
   "execution_count": 4,
   "metadata": {},
   "outputs": [
    {
     "data": {
      "text/plain": [
       "0"
      ]
     },
     "execution_count": 4,
     "metadata": {},
     "output_type": "execute_result"
    }
   ],
   "source": [
    "getcount(\"Hello\")"
   ]
  }
 ],
 "metadata": {
  "kernelspec": {
   "display_name": "Julia 1.9.4",
   "language": "julia",
   "name": "julia-1.9"
  },
  "language_info": {
   "file_extension": ".jl",
   "mimetype": "application/julia",
   "name": "julia",
   "version": "1.9.4"
  }
 },
 "nbformat": 4,
 "nbformat_minor": 2
}
